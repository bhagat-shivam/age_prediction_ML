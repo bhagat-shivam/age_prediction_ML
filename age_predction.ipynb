{
 "cells": [
  {
   "cell_type": "code",
   "execution_count": 5,
   "metadata": {},
   "outputs": [],
   "source": [
    "import numpy as np \n",
    "import pandas as pd \n",
    "from sklearn.model_selection import train_test_split\n",
    "from sklearn.preprocessing import  StandardScaler, LabelEncoder\n",
    "from sklearn.ensemble import RandomForestRegressor\n",
    "from sklearn.metrics import mean_absolute_error, mean_squared_error, r2_score\n",
    "import warnings\n",
    "warnings.filterwarnings('ignore')\n"
   ]
  },
  {
   "cell_type": "code",
   "execution_count": 6,
   "metadata": {},
   "outputs": [
    {
     "name": "stdout",
     "output_type": "stream",
     "text": [
      "   Gender  Height (cm)  Weight (kg) Blood Pressure (s/d)  \\\n",
      "0    Male   171.148359    86.185197              151/109   \n",
      "1    Male   172.946206    79.641937              134/112   \n",
      "2  Female   155.945488    49.167058              160/101   \n",
      "3  Female   169.078298    56.017921               133/94   \n",
      "4  Female   163.758355    73.966304              170/106   \n",
      "\n",
      "   Cholesterol Level (mg/dL)        BMI  Blood Glucose Level (mg/dL)  \\\n",
      "0                 259.465814  29.423017                   157.652848   \n",
      "1                 263.630292  26.626847                   118.507805   \n",
      "2                 207.846206  20.217553                   143.587550   \n",
      "3                 253.283779  19.595270                   137.448581   \n",
      "4                 236.119899  27.582078                   145.328695   \n",
      "\n",
      "   Bone Density (g/cm²)  Vision Sharpness  Hearing Ability (dB)  ...  \\\n",
      "0              0.132868          0.200000             58.786198  ...   \n",
      "1              0.629534          0.267312             54.635270  ...   \n",
      "2              0.473487          0.248667             54.564632  ...   \n",
      "3              1.184315          0.513818             79.722963  ...   \n",
      "4              0.434562          0.306864             52.479469  ...   \n",
      "\n",
      "  Family History Cognitive Function Mental Health Status Sleep Patterns  \\\n",
      "0            NaN          44.059172                 Good       Insomnia   \n",
      "1  Heart Disease          45.312298                 Good         Normal   \n",
      "2   Hypertension          56.246991                 Poor       Insomnia   \n",
      "3   Hypertension          55.196092                 Poor       Insomnia   \n",
      "4            NaN          53.023379                 Good         Normal   \n",
      "\n",
      "  Stress Levels Pollution Exposure Sun Exposure  Education Level Income Level  \\\n",
      "0      2.797064           5.142344     7.108975              NaN       Medium   \n",
      "1      9.339930           7.272720     3.918489    Undergraduate       Medium   \n",
      "2      9.234637           8.500386     5.393408              NaN       Medium   \n",
      "3      4.693446           7.555511     2.745578              NaN          Low   \n",
      "4      4.038537           9.429097     3.878435    Undergraduate         High   \n",
      "\n",
      "  Age (years)  \n",
      "0          89  \n",
      "1          77  \n",
      "2          70  \n",
      "3          52  \n",
      "4          79  \n",
      "\n",
      "[5 rows x 26 columns]\n",
      "   Gender  Height (cm)  Weight (kg) Blood Pressure (s/d)  \\\n",
      "0    Male   171.148359    86.185197              151/109   \n",
      "1    Male   172.946206    79.641937              134/112   \n",
      "2  Female   155.945488    49.167058              160/101   \n",
      "3  Female   169.078298    56.017921               133/94   \n",
      "4  Female   163.758355    73.966304              170/106   \n",
      "\n",
      "   Cholesterol Level (mg/dL)        BMI  Blood Glucose Level (mg/dL)  \\\n",
      "0                 259.465814  29.423017                   157.652848   \n",
      "1                 263.630292  26.626847                   118.507805   \n",
      "2                 207.846206  20.217553                   143.587550   \n",
      "3                 253.283779  19.595270                   137.448581   \n",
      "4                 236.119899  27.582078                   145.328695   \n",
      "\n",
      "   Bone Density (g/cm²)  Vision Sharpness  Hearing Ability (dB)  ...  \\\n",
      "0              0.132868          0.200000             58.786198  ...   \n",
      "1              0.629534          0.267312             54.635270  ...   \n",
      "2              0.473487          0.248667             54.564632  ...   \n",
      "3              1.184315          0.513818             79.722963  ...   \n",
      "4              0.434562          0.306864             52.479469  ...   \n",
      "\n",
      "  Medication Use Family History Cognitive Function Mental Health Status  \\\n",
      "0            NaN            NaN          44.059172                 Good   \n",
      "1            NaN  Heart Disease          45.312298                 Good   \n",
      "2        Regular   Hypertension          56.246991                 Poor   \n",
      "3     Occasional   Hypertension          55.196092                 Poor   \n",
      "4            NaN            NaN          53.023379                 Good   \n",
      "\n",
      "  Sleep Patterns Stress Levels Pollution Exposure  Sun Exposure  \\\n",
      "0       Insomnia      2.797064           5.142344      7.108975   \n",
      "1         Normal      9.339930           7.272720      3.918489   \n",
      "2       Insomnia      9.234637           8.500386      5.393408   \n",
      "3       Insomnia      4.693446           7.555511      2.745578   \n",
      "4         Normal      4.038537           9.429097      3.878435   \n",
      "\n",
      "  Education Level Income Level  \n",
      "0             NaN       Medium  \n",
      "1   Undergraduate       Medium  \n",
      "2             NaN       Medium  \n",
      "3             NaN          Low  \n",
      "4   Undergraduate         High  \n",
      "\n",
      "[5 rows x 25 columns]\n"
     ]
    }
   ],
   "source": [
    "train_df = pd.read_csv('Train.csv')\n",
    "test_df = pd.read_csv(\"Test.csv\")\n",
    "print(train_df.head())\n",
    "print(test_df.head())"
   ]
  },
  {
   "cell_type": "code",
   "execution_count": 7,
   "metadata": {},
   "outputs": [],
   "source": [
    "from sklearn.preprocessing import LabelEncoder\n",
    "le = LabelEncoder()\n",
    "train_df['Gender'] = le.fit_transform(train_df['Gender'])\n",
    "test_df['Gender'] = le.transform(test_df['Gender'])"
   ]
  },
  {
   "cell_type": "code",
   "execution_count": 10,
   "metadata": {},
   "outputs": [],
   "source": [
    "features = ['Gender','Height (cm)','Weight (kg)','Cholesterol Level (mg/dL)','BMI','Blood Glucose Level (mg/dL)','Bone Density (g/cm²)','Vision Sharpness','Hearing Ability (dB)']\n",
    "X = train_df[features]\n",
    "y = train_df['Age (years)']\n",
    "\n",
    "X_train, X_val, y_train, y_val = train_test_split(X, y, test_size=0.2, random_state=42)\n",
    "\n",
    "scaler = StandardScaler()\n",
    "X_train = scaler.fit_transform(X_train)\n",
    "X_val = scaler.transform(X_val)\n",
    "\n",
    "X_test = test_df[features]\n",
    "X_test = scaler.transform(X_test)"
   ]
  },
  {
   "cell_type": "code",
   "execution_count": 11,
   "metadata": {},
   "outputs": [
    {
     "name": "stdout",
     "output_type": "stream",
     "text": [
      "Random Forest Regression\n",
      "Mean Absolute Error: 4.705133333333333\n",
      "Mean Squared Error 34.332919000000004\n",
      "R Score 0.9162193032566763\n"
     ]
    }
   ],
   "source": [
    "rf_reg = RandomForestRegressor(n_estimators=100, random_state=42)\n",
    "rf_reg.fit(X_train,y_train)\n",
    "\n",
    "y_pred_rf = rf_reg.predict(X_val)\n",
    "print('Random Forest Regression')\n",
    "print('Mean Absolute Error:', mean_absolute_error(y_val, y_pred_rf))\n",
    "print('Mean Squared Error', mean_squared_error(y_val, y_pred_rf))\n",
    "print('R Score', r2_score(y_val, y_pred_rf))"
   ]
  },
  {
   "cell_type": "code",
   "execution_count": null,
   "metadata": {},
   "outputs": [],
   "source": []
  }
 ],
 "metadata": {
  "kernelspec": {
   "display_name": "Python 3",
   "language": "python",
   "name": "python3"
  },
  "language_info": {
   "codemirror_mode": {
    "name": "ipython",
    "version": 3
   },
   "file_extension": ".py",
   "mimetype": "text/x-python",
   "name": "python",
   "nbconvert_exporter": "python",
   "pygments_lexer": "ipython3",
   "version": "3.12.5"
  }
 },
 "nbformat": 4,
 "nbformat_minor": 2
}
